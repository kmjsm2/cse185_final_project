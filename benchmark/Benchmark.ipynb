{
 "cells": [
  {
   "cell_type": "code",
   "execution_count": 1,
   "metadata": {},
   "outputs": [],
   "source": [
    "import time\n",
    "import subprocess\n",
    "import pandas as pd\n",
    "import matplotlib.pyplot as plt\n",
    "import numpy as np"
   ]
  },
  {
   "cell_type": "markdown",
   "metadata": {},
   "source": [
    "## Measure Runtime for both options: 'scatter' and 'convert'"
   ]
  },
  {
   "cell_type": "code",
   "execution_count": 2,
   "metadata": {},
   "outputs": [],
   "source": [
    "def measure_runtime(command):\n",
    "    start_time = time.time()\n",
    "    result = subprocess.run(command, shell=True, capture_output=True, text=True)\n",
    "    end_time = time.time()\n",
    "    runtime = end_time - start_time\n",
    "    return runtime, result.stdout, result.stderr"
   ]
  },
  {
   "cell_type": "code",
   "execution_count": 3,
   "metadata": {},
   "outputs": [],
   "source": [
    "input_files = [\n",
    "    (\"./Chow_Rep1.genes.results\", \"./Chow_Rep2.genes.results\"),\n",
    "    (\"./Chow_Rep2.genes.results\", \"./Chow_Rep3.genes.results\"),\n",
    "    (\"./Chow_Rep3.genes.results\", \"./Chow_Rep1.genes.results\"),\n",
    "    (\"./HFD_Rep1.genes.results\", \"./HFD_Rep2.genes.results\"),\n",
    "    (\"./HFD_Rep2.genes.results\", \"./HFD_Rep3.genes.results\"),\n",
    "    (\"./HFD_Rep3.genes.results\", \"./HFD_Rep1.genes.results\")\n",
    "]"
   ]
  },
  {
   "cell_type": "code",
   "execution_count": 4,
   "metadata": {},
   "outputs": [],
   "source": [
    "commands = {\n",
    "    \"scatter_plot\": \"quantgene scatter {file1} {file2} ./\",\n",
    "    \"convert_fpkm_to_tpm\": \"quantgene convert {file1} ./\"\n",
    "}\n"
   ]
  },
  {
   "cell_type": "code",
   "execution_count": 5,
   "metadata": {},
   "outputs": [],
   "source": [
    "def calculate_average_runtime(commands, file_pairs):\n",
    "    runtimes = []\n",
    "    for file1, file2 in file_pairs:\n",
    "        command = commands.format(file1=file1, file2=file2)\n",
    "        print(f\"Measuring runtime for files: {file1}, {file2}\")\n",
    "        runtime, stdout, stderr = measure_runtime(command)\n",
    "        if stderr:\n",
    "            print(f\"Errors for files {file1}, {file2}:\\n{stderr}\")\n",
    "        else:\n",
    "            runtimes.append(runtime)\n",
    "    average_runtime = np.mean(runtimes)\n",
    "    return average_runtime, runtimes"
   ]
  },
  {
   "cell_type": "code",
   "execution_count": 6,
   "metadata": {},
   "outputs": [
    {
     "name": "stdout",
     "output_type": "stream",
     "text": [
      "Calculating average runtime for scatter_plot...\n",
      "Measuring runtime for files: ./Chow_Rep1.genes.results, ./Chow_Rep2.genes.results\n",
      "Measuring runtime for files: ./Chow_Rep2.genes.results, ./Chow_Rep3.genes.results\n",
      "Measuring runtime for files: ./Chow_Rep3.genes.results, ./Chow_Rep1.genes.results\n",
      "Measuring runtime for files: ./HFD_Rep1.genes.results, ./HFD_Rep2.genes.results\n",
      "Measuring runtime for files: ./HFD_Rep2.genes.results, ./HFD_Rep3.genes.results\n",
      "Measuring runtime for files: ./HFD_Rep3.genes.results, ./HFD_Rep1.genes.results\n",
      "Average runtime for scatter_plot: 0.92 seconds\n",
      "Calculating average runtime for convert_fpkm_to_tpm...\n",
      "Measuring runtime for files: ./Chow_Rep1.genes.results, ./Chow_Rep2.genes.results\n",
      "Measuring runtime for files: ./Chow_Rep2.genes.results, ./Chow_Rep3.genes.results\n",
      "Measuring runtime for files: ./Chow_Rep3.genes.results, ./Chow_Rep1.genes.results\n",
      "Measuring runtime for files: ./HFD_Rep1.genes.results, ./HFD_Rep2.genes.results\n",
      "Measuring runtime for files: ./HFD_Rep2.genes.results, ./HFD_Rep3.genes.results\n",
      "Measuring runtime for files: ./HFD_Rep3.genes.results, ./HFD_Rep1.genes.results\n",
      "Average runtime for convert_fpkm_to_tpm: 0.59 seconds\n"
     ]
    }
   ],
   "source": [
    "average_runtimes = {}\n",
    "all_runtimes = {}\n",
    "\n",
    "for name, command in commands.items():\n",
    "    print(f\"Calculating average runtime for {name}...\")\n",
    "    avg_runtime, runtimes = calculate_average_runtime(command, input_files)\n",
    "    average_runtimes[name] = avg_runtime\n",
    "    all_runtimes[name] = runtimes\n",
    "    print(f\"Average runtime for {name}: {avg_runtime:.2f} seconds\")"
   ]
  },
  {
   "cell_type": "markdown",
   "metadata": {},
   "source": [
    "## Get the Average Runtime "
   ]
  },
  {
   "cell_type": "code",
   "execution_count": 7,
   "metadata": {},
   "outputs": [],
   "source": [
    "average_runtime_df = pd.DataFrame(list(average_runtimes.items()), columns=['Task', 'Average Runtime'])"
   ]
  },
  {
   "cell_type": "markdown",
   "metadata": {},
   "source": [
    "## Visualize the Average Runtime in both options (s)"
   ]
  },
  {
   "cell_type": "code",
   "execution_count": 8,
   "metadata": {},
   "outputs": [
    {
     "data": {
      "image/png": "[encoded data removed]",
      "text/plain": [
       "<Figure size 1000x600 with 1 Axes>"
      ]
     },
     "metadata": {},
     "output_type": "display_data"
    }
   ],
   "source": [
    "plt.figure(figsize=(10, 6))\n",
    "plt.bar(average_runtime_df['Task'], average_runtime_df['Average Runtime'], color='skyblue')\n",
    "plt.xlabel('Task')\n",
    "plt.ylabel('Average Runtime (seconds)')\n",
    "plt.title('Average Runtime Analysis of quantgene.py Tasks')\n",
    "plt.show()"
   ]
  },
  {
   "cell_type": "markdown",
   "metadata": {},
   "source": [
    "### Get Dataframe of Average Runtime "
   ]
  },
  {
   "cell_type": "code",
   "execution_count": 9,
   "metadata": {},
   "outputs": [
    {
     "data": {
      "text/html": [
       "<div>\n",
       "<style scoped>\n",
       "    .dataframe tbody tr th:only-of-type {\n",
       "        vertical-align: middle;\n",
       "    }\n",
       "\n",
       "    .dataframe tbody tr th {\n",
       "        vertical-align: top;\n",
       "    }\n",
       "\n",
       "    .dataframe thead th {\n",
       "        text-align: right;\n",
       "    }\n",
       "</style>\n",
       "<table border=\"1\" class=\"dataframe\">\n",
       "  <thead>\n",
       "    <tr style=\"text-align: right;\">\n",
       "      <th></th>\n",
       "      <th>Task</th>\n",
       "      <th>Average Runtime</th>\n",
       "    </tr>\n",
       "  </thead>\n",
       "  <tbody>\n",
       "    <tr>\n",
       "      <th>0</th>\n",
       "      <td>scatter_plot</td>\n",
       "      <td>0.924805</td>\n",
       "    </tr>\n",
       "    <tr>\n",
       "      <th>1</th>\n",
       "      <td>convert_fpkm_to_tpm</td>\n",
       "      <td>0.589802</td>\n",
       "    </tr>\n",
       "  </tbody>\n",
       "</table>\n",
       "</div>"
      ],
      "text/plain": [
       "                  Task  Average Runtime\n",
       "0         scatter_plot         0.924805\n",
       "1  convert_fpkm_to_tpm         0.589802"
      ]
     },
     "execution_count": 9,
     "metadata": {},
     "output_type": "execute_result"
    }
   ],
   "source": [
    "average_runtime_df"
   ]
  }
 ],
 "metadata": {
  "kernelspec": {
   "display_name": "Python 3",
   "language": "python",
   "name": "python3"
  },
  "language_info": {
   "codemirror_mode": {
    "name": "ipython",
    "version": 3
   },
   "file_extension": ".py",
   "mimetype": "text/x-python",
   "name": "python",
   "nbconvert_exporter": "python",
   "pygments_lexer": "ipython3",
   "version": "3.10.5"
  }
 },
 "nbformat": 4,
 "nbformat_minor": 2
}
