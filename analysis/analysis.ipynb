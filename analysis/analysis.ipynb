{
 "cells": [
  {
   "cell_type": "code",
   "execution_count": 1,
   "metadata": {},
   "outputs": [],
   "source": [
    "import time\n",
    "import subprocess\n",
    "import pandas as pd\n",
    "import matplotlib.pyplot as plt\n",
    "import numpy as np"
   ]
  },
  {
   "cell_type": "markdown",
   "metadata": {},
   "source": [
    "## Measure Runtime for both options: 'scatter' and 'convert'"
   ]
  },
  {
   "cell_type": "code",
   "execution_count": 2,
   "metadata": {},
   "outputs": [],
   "source": [
    "def measure_runtime(command):\n",
    "    start_time = time.time()\n",
    "    result = subprocess.run(command, shell=True, capture_output=True, text=True)\n",
    "    end_time = time.time()\n",
    "    runtime = end_time - start_time\n",
    "    return runtime, result.stdout, result.stderr"
   ]
  },
  {
   "cell_type": "code",
   "execution_count": 3,
   "metadata": {},
   "outputs": [],
   "source": [
    "input_files = [\n",
    "    (\"../example_files/C1_fpkm.csv\", \"../example_files/C2_fpkm.csv\"),\n",
    "    (\"../example_files/C2_fpkm.csv\", \"../example_files/C3_fpkm.csv\"),\n",
    "    (\"../example_files/C3_fpkm.csv\", \"../example_files/C1_fpkm.csv\"),\n",
    "    (\"../example_files/T1_fpkm.csv\", \"../example_files/T2_fpkm.csv\"),\n",
    "    (\"../example_files/T2_fpkm.csv\", \"../example_files/T3_fpkm.csv\"),\n",
    "    (\"../example_files/T3_fpkm.csv\", \"../example_files/T1_fpkm.csv\")\n",
    "]"
   ]
  },
  {
   "cell_type": "code",
   "execution_count": 4,
   "metadata": {},
   "outputs": [],
   "source": [
    "commands = {\n",
    "    \"scatter_plot\": \"quantgene scatter {file1} {file2} ./\",\n",
    "    \"convert_fpkm_to_tpm\": \"quantgene convert {file1} ./\"\n",
    "}\n"
   ]
  },
  {
   "cell_type": "code",
   "execution_count": 5,
   "metadata": {},
   "outputs": [],
   "source": [
    "def calculate_average_runtime(commands, file_pairs):\n",
    "    runtimes = []\n",
    "    for file1, file2 in file_pairs:\n",
    "        command = commands.format(file1=file1, file2=file2)\n",
    "        print(f\"Measuring runtime for files: {file1}, {file2}\")\n",
    "        runtime, stdout, stderr = measure_runtime(command)\n",
    "        if stderr:\n",
    "            print(f\"Errors for files {file1}, {file2}:\\n{stderr}\")\n",
    "        else:\n",
    "            runtimes.append(runtime)\n",
    "    average_runtime = np.mean(runtimes)\n",
    "    return average_runtime, runtimes"
   ]
  },
  {
   "cell_type": "code",
   "execution_count": 6,
   "metadata": {},
   "outputs": [
    {
     "name": "stdout",
     "output_type": "stream",
     "text": [
      "Calculating average runtime for scatter_plot...\n",
      "Measuring runtime for files: ../example_files/C1_fpkm.csv, ../example_files/C2_fpkm.csv\n",
      "Errors for files ../example_files/C1_fpkm.csv, ../example_files/C2_fpkm.csv:\n",
      "Traceback (most recent call last):\n",
      "  File \"/Users/zoekim/miniconda3/lib/python3.8/site-packages/pandas/core/indexes/base.py\", line 3653, in get_loc\n",
      "    return self._engine.get_loc(casted_key)\n",
      "  File \"pandas/_libs/index.pyx\", line 147, in pandas._libs.index.IndexEngine.get_loc\n",
      "  File \"pandas/_libs/index.pyx\", line 176, in pandas._libs.index.IndexEngine.get_loc\n",
      "  File \"pandas/_libs/hashtable_class_helper.pxi\", line 7080, in pandas._libs.hashtable.PyObjectHashTable.get_item\n",
      "  File \"pandas/_libs/hashtable_class_helper.pxi\", line 7088, in pandas._libs.hashtable.PyObjectHashTable.get_item\n",
      "KeyError: 'TPM_Rep1'\n",
      "\n",
      "The above exception was the direct cause of the following exception:\n",
      "\n",
      "Traceback (most recent call last):\n",
      "  File \"/Users/zoekim/miniconda3/bin/quantgene\", line 8, in <module>\n",
      "    sys.exit(main())\n",
      "  File \"/Users/zoekim/miniconda3/lib/python3.8/site-packages/quantgene/quantgene.py\", line 99, in main\n",
      "    generate_scatter_plot(data_merged, 'TPM_Rep1', 'TPM_Rep2', args.p_title, output_file_path)\n",
      "  File \"/Users/zoekim/miniconda3/lib/python3.8/site-packages/quantgene/quantgene.py\", line 63, in generate_scatter_plot\n",
      "    xvals = np.log10(data[x_column] + 1)  # Apply log10 transformation\n",
      "  File \"/Users/zoekim/miniconda3/lib/python3.8/site-packages/pandas/core/frame.py\", line 3761, in __getitem__\n",
      "    indexer = self.columns.get_loc(key)\n",
      "  File \"/Users/zoekim/miniconda3/lib/python3.8/site-packages/pandas/core/indexes/base.py\", line 3655, in get_loc\n",
      "    raise KeyError(key) from err\n",
      "KeyError: 'TPM_Rep1'\n",
      "\n",
      "Measuring runtime for files: ../example_files/C2_fpkm.csv, ../example_files/C3_fpkm.csv\n",
      "Errors for files ../example_files/C2_fpkm.csv, ../example_files/C3_fpkm.csv:\n",
      "Traceback (most recent call last):\n",
      "  File \"/Users/zoekim/miniconda3/lib/python3.8/site-packages/pandas/core/indexes/base.py\", line 3653, in get_loc\n",
      "    return self._engine.get_loc(casted_key)\n",
      "  File \"pandas/_libs/index.pyx\", line 147, in pandas._libs.index.IndexEngine.get_loc\n",
      "  File \"pandas/_libs/index.pyx\", line 176, in pandas._libs.index.IndexEngine.get_loc\n",
      "  File \"pandas/_libs/hashtable_class_helper.pxi\", line 7080, in pandas._libs.hashtable.PyObjectHashTable.get_item\n",
      "  File \"pandas/_libs/hashtable_class_helper.pxi\", line 7088, in pandas._libs.hashtable.PyObjectHashTable.get_item\n",
      "KeyError: 'TPM_Rep1'\n",
      "\n",
      "The above exception was the direct cause of the following exception:\n",
      "\n",
      "Traceback (most recent call last):\n",
      "  File \"/Users/zoekim/miniconda3/bin/quantgene\", line 8, in <module>\n",
      "    sys.exit(main())\n",
      "  File \"/Users/zoekim/miniconda3/lib/python3.8/site-packages/quantgene/quantgene.py\", line 99, in main\n",
      "    generate_scatter_plot(data_merged, 'TPM_Rep1', 'TPM_Rep2', args.p_title, output_file_path)\n",
      "  File \"/Users/zoekim/miniconda3/lib/python3.8/site-packages/quantgene/quantgene.py\", line 63, in generate_scatter_plot\n",
      "    xvals = np.log10(data[x_column] + 1)  # Apply log10 transformation\n",
      "  File \"/Users/zoekim/miniconda3/lib/python3.8/site-packages/pandas/core/frame.py\", line 3761, in __getitem__\n",
      "    indexer = self.columns.get_loc(key)\n",
      "  File \"/Users/zoekim/miniconda3/lib/python3.8/site-packages/pandas/core/indexes/base.py\", line 3655, in get_loc\n",
      "    raise KeyError(key) from err\n",
      "KeyError: 'TPM_Rep1'\n",
      "\n",
      "Measuring runtime for files: ../example_files/C3_fpkm.csv, ../example_files/C1_fpkm.csv\n",
      "Errors for files ../example_files/C3_fpkm.csv, ../example_files/C1_fpkm.csv:\n",
      "Traceback (most recent call last):\n",
      "  File \"/Users/zoekim/miniconda3/lib/python3.8/site-packages/pandas/core/indexes/base.py\", line 3653, in get_loc\n",
      "    return self._engine.get_loc(casted_key)\n",
      "  File \"pandas/_libs/index.pyx\", line 147, in pandas._libs.index.IndexEngine.get_loc\n",
      "  File \"pandas/_libs/index.pyx\", line 176, in pandas._libs.index.IndexEngine.get_loc\n",
      "  File \"pandas/_libs/hashtable_class_helper.pxi\", line 7080, in pandas._libs.hashtable.PyObjectHashTable.get_item\n",
      "  File \"pandas/_libs/hashtable_class_helper.pxi\", line 7088, in pandas._libs.hashtable.PyObjectHashTable.get_item\n",
      "KeyError: 'TPM_Rep1'\n",
      "\n",
      "The above exception was the direct cause of the following exception:\n",
      "\n",
      "Traceback (most recent call last):\n",
      "  File \"/Users/zoekim/miniconda3/bin/quantgene\", line 8, in <module>\n",
      "    sys.exit(main())\n",
      "  File \"/Users/zoekim/miniconda3/lib/python3.8/site-packages/quantgene/quantgene.py\", line 99, in main\n",
      "    generate_scatter_plot(data_merged, 'TPM_Rep1', 'TPM_Rep2', args.p_title, output_file_path)\n",
      "  File \"/Users/zoekim/miniconda3/lib/python3.8/site-packages/quantgene/quantgene.py\", line 63, in generate_scatter_plot\n",
      "    xvals = np.log10(data[x_column] + 1)  # Apply log10 transformation\n",
      "  File \"/Users/zoekim/miniconda3/lib/python3.8/site-packages/pandas/core/frame.py\", line 3761, in __getitem__\n",
      "    indexer = self.columns.get_loc(key)\n",
      "  File \"/Users/zoekim/miniconda3/lib/python3.8/site-packages/pandas/core/indexes/base.py\", line 3655, in get_loc\n",
      "    raise KeyError(key) from err\n",
      "KeyError: 'TPM_Rep1'\n",
      "\n",
      "Measuring runtime for files: ../example_files/T1_fpkm.csv, ../example_files/T2_fpkm.csv\n",
      "Errors for files ../example_files/T1_fpkm.csv, ../example_files/T2_fpkm.csv:\n",
      "Traceback (most recent call last):\n",
      "  File \"/Users/zoekim/miniconda3/lib/python3.8/site-packages/pandas/core/indexes/base.py\", line 3653, in get_loc\n",
      "    return self._engine.get_loc(casted_key)\n",
      "  File \"pandas/_libs/index.pyx\", line 147, in pandas._libs.index.IndexEngine.get_loc\n",
      "  File \"pandas/_libs/index.pyx\", line 176, in pandas._libs.index.IndexEngine.get_loc\n",
      "  File \"pandas/_libs/hashtable_class_helper.pxi\", line 7080, in pandas._libs.hashtable.PyObjectHashTable.get_item\n",
      "  File \"pandas/_libs/hashtable_class_helper.pxi\", line 7088, in pandas._libs.hashtable.PyObjectHashTable.get_item\n",
      "KeyError: 'TPM_Rep1'\n",
      "\n",
      "The above exception was the direct cause of the following exception:\n",
      "\n",
      "Traceback (most recent call last):\n",
      "  File \"/Users/zoekim/miniconda3/bin/quantgene\", line 8, in <module>\n",
      "    sys.exit(main())\n",
      "  File \"/Users/zoekim/miniconda3/lib/python3.8/site-packages/quantgene/quantgene.py\", line 99, in main\n",
      "    generate_scatter_plot(data_merged, 'TPM_Rep1', 'TPM_Rep2', args.p_title, output_file_path)\n",
      "  File \"/Users/zoekim/miniconda3/lib/python3.8/site-packages/quantgene/quantgene.py\", line 63, in generate_scatter_plot\n",
      "    xvals = np.log10(data[x_column] + 1)  # Apply log10 transformation\n",
      "  File \"/Users/zoekim/miniconda3/lib/python3.8/site-packages/pandas/core/frame.py\", line 3761, in __getitem__\n",
      "    indexer = self.columns.get_loc(key)\n",
      "  File \"/Users/zoekim/miniconda3/lib/python3.8/site-packages/pandas/core/indexes/base.py\", line 3655, in get_loc\n",
      "    raise KeyError(key) from err\n",
      "KeyError: 'TPM_Rep1'\n",
      "\n",
      "Measuring runtime for files: ../example_files/T2_fpkm.csv, ../example_files/T3_fpkm.csv\n",
      "Errors for files ../example_files/T2_fpkm.csv, ../example_files/T3_fpkm.csv:\n",
      "Traceback (most recent call last):\n",
      "  File \"/Users/zoekim/miniconda3/lib/python3.8/site-packages/pandas/core/indexes/base.py\", line 3653, in get_loc\n",
      "    return self._engine.get_loc(casted_key)\n",
      "  File \"pandas/_libs/index.pyx\", line 147, in pandas._libs.index.IndexEngine.get_loc\n",
      "  File \"pandas/_libs/index.pyx\", line 176, in pandas._libs.index.IndexEngine.get_loc\n",
      "  File \"pandas/_libs/hashtable_class_helper.pxi\", line 7080, in pandas._libs.hashtable.PyObjectHashTable.get_item\n",
      "  File \"pandas/_libs/hashtable_class_helper.pxi\", line 7088, in pandas._libs.hashtable.PyObjectHashTable.get_item\n",
      "KeyError: 'TPM_Rep1'\n",
      "\n",
      "The above exception was the direct cause of the following exception:\n",
      "\n",
      "Traceback (most recent call last):\n",
      "  File \"/Users/zoekim/miniconda3/bin/quantgene\", line 8, in <module>\n",
      "    sys.exit(main())\n",
      "  File \"/Users/zoekim/miniconda3/lib/python3.8/site-packages/quantgene/quantgene.py\", line 99, in main\n",
      "    generate_scatter_plot(data_merged, 'TPM_Rep1', 'TPM_Rep2', args.p_title, output_file_path)\n",
      "  File \"/Users/zoekim/miniconda3/lib/python3.8/site-packages/quantgene/quantgene.py\", line 63, in generate_scatter_plot\n",
      "    xvals = np.log10(data[x_column] + 1)  # Apply log10 transformation\n",
      "  File \"/Users/zoekim/miniconda3/lib/python3.8/site-packages/pandas/core/frame.py\", line 3761, in __getitem__\n",
      "    indexer = self.columns.get_loc(key)\n",
      "  File \"/Users/zoekim/miniconda3/lib/python3.8/site-packages/pandas/core/indexes/base.py\", line 3655, in get_loc\n",
      "    raise KeyError(key) from err\n",
      "KeyError: 'TPM_Rep1'\n",
      "\n",
      "Measuring runtime for files: ../example_files/T3_fpkm.csv, ../example_files/T1_fpkm.csv\n",
      "Errors for files ../example_files/T3_fpkm.csv, ../example_files/T1_fpkm.csv:\n",
      "Traceback (most recent call last):\n",
      "  File \"/Users/zoekim/miniconda3/lib/python3.8/site-packages/pandas/core/indexes/base.py\", line 3653, in get_loc\n",
      "    return self._engine.get_loc(casted_key)\n",
      "  File \"pandas/_libs/index.pyx\", line 147, in pandas._libs.index.IndexEngine.get_loc\n",
      "  File \"pandas/_libs/index.pyx\", line 176, in pandas._libs.index.IndexEngine.get_loc\n",
      "  File \"pandas/_libs/hashtable_class_helper.pxi\", line 7080, in pandas._libs.hashtable.PyObjectHashTable.get_item\n",
      "  File \"pandas/_libs/hashtable_class_helper.pxi\", line 7088, in pandas._libs.hashtable.PyObjectHashTable.get_item\n",
      "KeyError: 'TPM_Rep1'\n",
      "\n",
      "The above exception was the direct cause of the following exception:\n",
      "\n",
      "Traceback (most recent call last):\n",
      "  File \"/Users/zoekim/miniconda3/bin/quantgene\", line 8, in <module>\n",
      "    sys.exit(main())\n",
      "  File \"/Users/zoekim/miniconda3/lib/python3.8/site-packages/quantgene/quantgene.py\", line 99, in main\n",
      "    generate_scatter_plot(data_merged, 'TPM_Rep1', 'TPM_Rep2', args.p_title, output_file_path)\n",
      "  File \"/Users/zoekim/miniconda3/lib/python3.8/site-packages/quantgene/quantgene.py\", line 63, in generate_scatter_plot\n",
      "    xvals = np.log10(data[x_column] + 1)  # Apply log10 transformation\n",
      "  File \"/Users/zoekim/miniconda3/lib/python3.8/site-packages/pandas/core/frame.py\", line 3761, in __getitem__\n",
      "    indexer = self.columns.get_loc(key)\n",
      "  File \"/Users/zoekim/miniconda3/lib/python3.8/site-packages/pandas/core/indexes/base.py\", line 3655, in get_loc\n",
      "    raise KeyError(key) from err\n",
      "KeyError: 'TPM_Rep1'\n",
      "\n",
      "Average runtime for scatter_plot: nan seconds\n",
      "Calculating average runtime for convert_fpkm_to_tpm...\n",
      "Measuring runtime for files: ../example_files/C1_fpkm.csv, ../example_files/C2_fpkm.csv\n"
     ]
    },
    {
     "name": "stderr",
     "output_type": "stream",
     "text": [
      "/Library/Frameworks/Python.framework/Versions/3.10/lib/python3.10/site-packages/numpy/core/fromnumeric.py:3504: RuntimeWarning: Mean of empty slice.\n",
      "  return _methods._mean(a, axis=axis, dtype=dtype,\n",
      "/Library/Frameworks/Python.framework/Versions/3.10/lib/python3.10/site-packages/numpy/core/_methods.py:129: RuntimeWarning: invalid value encountered in scalar divide\n",
      "  ret = ret.dtype.type(ret / rcount)\n"
     ]
    },
    {
     "name": "stdout",
     "output_type": "stream",
     "text": [
      "Measuring runtime for files: ../example_files/C2_fpkm.csv, ../example_files/C3_fpkm.csv\n",
      "Measuring runtime for files: ../example_files/C3_fpkm.csv, ../example_files/C1_fpkm.csv\n",
      "Measuring runtime for files: ../example_files/T1_fpkm.csv, ../example_files/T2_fpkm.csv\n",
      "Measuring runtime for files: ../example_files/T2_fpkm.csv, ../example_files/T3_fpkm.csv\n",
      "Measuring runtime for files: ../example_files/T3_fpkm.csv, ../example_files/T1_fpkm.csv\n",
      "Average runtime for convert_fpkm_to_tpm: 0.47 seconds\n"
     ]
    }
   ],
   "source": [
    "average_runtimes = {}\n",
    "all_runtimes = {}\n",
    "\n",
    "for name, command in commands.items():\n",
    "    print(f\"Calculating average runtime for {name}...\")\n",
    "    avg_runtime, runtimes = calculate_average_runtime(command, input_files)\n",
    "    average_runtimes[name] = avg_runtime\n",
    "    all_runtimes[name] = runtimes\n",
    "    print(f\"Average runtime for {name}: {avg_runtime:.2f} seconds\")"
   ]
  },
  {
   "cell_type": "markdown",
   "metadata": {},
   "source": [
    "## Get the Average Runtime "
   ]
  },
  {
   "cell_type": "code",
   "execution_count": 7,
   "metadata": {},
   "outputs": [],
   "source": [
    "average_runtime_df = pd.DataFrame(list(average_runtimes.items()), columns=['Task', 'Average Runtime'])"
   ]
  },
  {
   "cell_type": "markdown",
   "metadata": {},
   "source": [
    "## Visualize the Average Runtime in both options (s)"
   ]
  },
  {
   "cell_type": "code",
   "execution_count": 8,
   "metadata": {},
   "outputs": [
    {
     "data": {
      "image/png": "[encoded data removed]",
      "text/plain": [
       "<Figure size 1000x600 with 1 Axes>"
      ]
     },
     "metadata": {},
     "output_type": "display_data"
    }
   ],
   "source": [
    "plt.figure(figsize=(10, 6))\n",
    "plt.bar(average_runtime_df['Task'], average_runtime_df['Average Runtime'], color='skyblue')\n",
    "plt.xlabel('Task')\n",
    "plt.ylabel('Average Runtime (seconds)')\n",
    "plt.title('Average Runtime Analysis of quantgene.py Tasks')\n",
    "plt.show()"
   ]
  },
  {
   "cell_type": "markdown",
   "metadata": {},
   "source": [
    "### Get Dataframe of Average Runtime "
   ]
  },
  {
   "cell_type": "code",
   "execution_count": 9,
   "metadata": {},
   "outputs": [
    {
     "data": {
      "text/html": [
       "<div>\n",
       "<style scoped>\n",
       "    .dataframe tbody tr th:only-of-type {\n",
       "        vertical-align: middle;\n",
       "    }\n",
       "\n",
       "    .dataframe tbody tr th {\n",
       "        vertical-align: top;\n",
       "    }\n",
       "\n",
       "    .dataframe thead th {\n",
       "        text-align: right;\n",
       "    }\n",
       "</style>\n",
       "<table border=\"1\" class=\"dataframe\">\n",
       "  <thead>\n",
       "    <tr style=\"text-align: right;\">\n",
       "      <th></th>\n",
       "      <th>Task</th>\n",
       "      <th>Average Runtime</th>\n",
       "    </tr>\n",
       "  </thead>\n",
       "  <tbody>\n",
       "    <tr>\n",
       "      <th>0</th>\n",
       "      <td>scatter_plot</td>\n",
       "      <td>NaN</td>\n",
       "    </tr>\n",
       "    <tr>\n",
       "      <th>1</th>\n",
       "      <td>convert_fpkm_to_tpm</td>\n",
       "      <td>0.467281</td>\n",
       "    </tr>\n",
       "  </tbody>\n",
       "</table>\n",
       "</div>"
      ],
      "text/plain": [
       "                  Task  Average Runtime\n",
       "0         scatter_plot              NaN\n",
       "1  convert_fpkm_to_tpm         0.467281"
      ]
     },
     "execution_count": 9,
     "metadata": {},
     "output_type": "execute_result"
    }
   ],
   "source": [
    "average_runtime_df"
   ]
  }
 ],
 "metadata": {
  "kernelspec": {
   "display_name": "Python 3",
   "language": "python",
   "name": "python3"
  },
  "language_info": {
   "codemirror_mode": {
    "name": "ipython",
    "version": 3
   },
   "file_extension": ".py",
   "mimetype": "text/x-python",
   "name": "python",
   "nbconvert_exporter": "python",
   "pygments_lexer": "ipython3",
   "version": "3.10.5"
  }
 },
 "nbformat": 4,
 "nbformat_minor": 2
}
