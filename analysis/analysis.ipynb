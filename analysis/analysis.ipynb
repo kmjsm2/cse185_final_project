{
 "cells": [
  {
   "cell_type": "code",
   "execution_count": 1,
   "metadata": {},
   "outputs": [],
   "source": [
    "import time\n",
    "import subprocess\n",
    "import pandas as pd\n",
    "import matplotlib.pyplot as plt\n",
    "import numpy as np\n",
    "import os"
   ]
  },
  {
   "cell_type": "markdown",
   "metadata": {},
   "source": [
    "## Measure Runtime for both options: 'scatter' and 'convert'"
   ]
  },
  {
   "cell_type": "code",
   "execution_count": 2,
   "metadata": {},
   "outputs": [],
   "source": [
    "def measure_runtime(command):\n",
    "    start_time = time.time()\n",
    "    result = subprocess.run(command, shell=True, capture_output=True, text=True)\n",
    "    end_time = time.time()\n",
    "    runtime = end_time - start_time\n",
    "    return runtime, result.stdout, result.stderr"
   ]
  },
  {
   "cell_type": "code",
   "execution_count": 3,
   "metadata": {},
   "outputs": [],
   "source": [
    "input_files = [\n",
    "    (\"../example_files/C1_fpkm.csv\", \"../example_files/C2_fpkm.csv\"),\n",
    "    (\"../example_files/C2_fpkm.csv\", \"../example_files/C3_fpkm.csv\"),\n",
    "    (\"../example_files/C3_fpkm.csv\", \"../example_files/C1_fpkm.csv\"),\n",
    "    (\"../example_files/T1_fpkm.csv\", \"../example_files/T2_fpkm.csv\"),\n",
    "    (\"../example_files/T2_fpkm.csv\", \"../example_files/T3_fpkm.csv\"),\n",
    "    (\"../example_files/T3_fpkm.csv\", \"../example_files/T1_fpkm.csv\")\n",
    "]"
   ]
  },
  {
   "cell_type": "code",
   "execution_count": 4,
   "metadata": {},
   "outputs": [],
   "source": [
    "commands = {\n",
    "    \"convert\": \"quantgene convert {file1} ./output\",\n",
    "    \"scatter\": \"quantgene scatter {file1} {file2} ./output\"\n",
    "}"
   ]
  },
  {
   "cell_type": "code",
   "execution_count": 5,
   "metadata": {},
   "outputs": [],
   "source": [
    "def calculate_average_runtime(commands, file_pairs, mode):\n",
    "    runtimes = []\n",
    "    output_files = []\n",
    "    \n",
    "    for file1, file2 in file_pairs:\n",
    "        if mode == \"convert\":\n",
    "            output_file = os.path.basename(file1).replace('_fpkm.csv', '_fpkm_converted.csv')\n",
    "            output_files.append(output_file)\n",
    "            command = commands[mode].format(file1=file1)\n",
    "            print(f\"Measuring runtime for converting file: {file1}\")\n",
    "        elif mode == \"scatter\":\n",
    "            file1 = os.path.join('./output',os.path.basename(file1).replace('_fpkm.csv', '_fpkm_converted.csv'))\n",
    "            file2 = os.path.join('./output',os.path.basename(file2).replace('_fpkm.csv', '_fpkm_converted.csv'))\n",
    "            command = commands[mode].format(file1=file1, file2=file2)\n",
    "            print(f\"Measuring runtime for files: {file1}, {file2}\")\n",
    "        else:\n",
    "            continue\n",
    "        \n",
    "        runtime, stdout, stderr = measure_runtime(command)\n",
    "        if stderr:\n",
    "            print(f\"Errors for files {file1}, {file2}:\\n{stderr}\")\n",
    "        else:\n",
    "            runtimes.append(runtime)\n",
    "    \n",
    "    average_runtime = np.mean(runtimes)\n",
    "    return average_runtime, runtimes, output_files"
   ]
  },
  {
   "cell_type": "code",
   "execution_count": 6,
   "metadata": {},
   "outputs": [
    {
     "name": "stdout",
     "output_type": "stream",
     "text": [
      "Calculating average runtime for convert...\n",
      "Measuring runtime for converting file: ../example_files/C1_fpkm.csv\n",
      "Measuring runtime for converting file: ../example_files/C2_fpkm.csv\n",
      "Measuring runtime for converting file: ../example_files/C3_fpkm.csv\n",
      "Measuring runtime for converting file: ../example_files/T1_fpkm.csv\n",
      "Measuring runtime for converting file: ../example_files/T2_fpkm.csv\n",
      "Measuring runtime for converting file: ../example_files/T3_fpkm.csv\n",
      "Average runtime for convert: 0.58 seconds\n"
     ]
    }
   ],
   "source": [
    "# First, run the convert step\n",
    "convert_average_runtimes = {}\n",
    "convert_all_runtimes = {}\n",
    "print(\"Calculating average runtime for convert...\")\n",
    "convert_avg_runtime, convert_runtimes, output_files = calculate_average_runtime(commands, input_files, \"convert\")\n",
    "convert_average_runtimes[\"convert\"] = convert_avg_runtime\n",
    "convert_all_runtimes[\"convert\"] = convert_runtimes\n",
    "print(f\"Average runtime for convert: {convert_avg_runtime:.2f} seconds\")"
   ]
  },
  {
   "cell_type": "code",
   "execution_count": null,
   "metadata": {},
   "outputs": [],
   "source": [
    "scatter_input_files = [\n",
    "    (\"./output/C1_fpkm_converted.csv\", \"./output/C2_fpkm_converted.csv\"),\n",
    "    (\"./output/C2_fpkm_converted.csv\", \"./output/C3_fpkm_converted.csv\"),\n",
    "    (\"./output/C1_fpkm_converted.csv\", \"./output/C3_fpkm_converted.csv\"),\n",
    "    (\"./output/T1_fpkm_converted.csv\", \"./output/T2_fpkm_converted.csv\"),\n",
    "    (\"./output/T2_fpkm_converted.csv\", \"./output/T3_fpkm_converted.csv\"),\n",
    "    (\"./output/T1_fpkm_converted.csv\", \"./output/T3_fpkm_converted.csv\")\n",
    "]"
   ]
  },
  {
   "cell_type": "code",
   "execution_count": 7,
   "metadata": {},
   "outputs": [
    {
     "name": "stdout",
     "output_type": "stream",
     "text": [
      "Calculating average runtime for scatter...\n",
      "Measuring runtime for files: ./output/C1_fpkm_converted.csv, ./output/C2_fpkm_converted.csv\n",
      "Measuring runtime for files: ./output/C3_fpkm_converted.csv, ./output/T1_fpkm_converted.csv\n",
      "Measuring runtime for files: ./output/T2_fpkm_converted.csv, ./output/T3_fpkm_converted.csv\n",
      "Average runtime for scatter_plot: 1.15 seconds\n"
     ]
    }
   ],
   "source": [
    "# Now, run the scatter step using the converted files\n",
    "scatter_average_runtimes = {}\n",
    "scatter_all_runtimes = {}\n",
    "print(\"Calculating average runtime for scatter...\")\n",
    "scatter_avg_runtime, scatter_runtimes, _ = calculate_average_runtime(commands, scatter_input_files, \"scatter\")\n",
    "scatter_average_runtimes[\"scatter_plot\"] = scatter_avg_runtime\n",
    "scatter_all_runtimes[\"scatter_plot\"] = scatter_runtimes\n",
    "print(f\"Average runtime for scatter_plot: {scatter_avg_runtime:.2f} seconds\")\n",
    "\n",
    "# Combine both average runtimes\n",
    "average_runtimes = {**scatter_average_runtimes, **convert_average_runtimes}"
   ]
  },
  {
   "cell_type": "markdown",
   "metadata": {},
   "source": [
    "## Get the Average Runtime "
   ]
  },
  {
   "cell_type": "code",
   "execution_count": 8,
   "metadata": {},
   "outputs": [],
   "source": [
    "# Get the Average Runtime\n",
    "average_runtime_df = pd.DataFrame(list(average_runtimes.items()), columns=['Task', 'Average Runtime'])"
   ]
  },
  {
   "cell_type": "markdown",
   "metadata": {},
   "source": [
    "## Visualize the Average Runtime in both options (s)"
   ]
  },
  {
   "cell_type": "code",
   "execution_count": 9,
   "metadata": {},
   "outputs": [
    {
     "data": {
      "image/png": "[encoded data removed]",
      "text/plain": [
       "<Figure size 1000x600 with 1 Axes>"
      ]
     },
     "metadata": {},
     "output_type": "display_data"
    }
   ],
   "source": [
    "# Visualize the Average Runtime in both options (s)\n",
    "plt.figure(figsize=(10, 6))\n",
    "plt.bar(average_runtime_df['Task'], average_runtime_df['Average Runtime'], color='skyblue')\n",
    "plt.xlabel('Task')\n",
    "plt.ylabel('Average Runtime (seconds)')\n",
    "plt.title('Example files Average Runtime Analysis of quantgene.py Tasks')\n",
    "\n",
    "# Save the plot as a PNG file\n",
    "plt.savefig('ex_avg_runtime_analysis.png')\n",
    "\n",
    "plt.show()"
   ]
  },
  {
   "cell_type": "markdown",
   "metadata": {},
   "source": [
    "### Get Dataframe of Average Runtime "
   ]
  },
  {
   "cell_type": "code",
   "execution_count": 10,
   "metadata": {},
   "outputs": [
    {
     "data": {
      "text/html": [
       "<div>\n",
       "<style scoped>\n",
       "    .dataframe tbody tr th:only-of-type {\n",
       "        vertical-align: middle;\n",
       "    }\n",
       "\n",
       "    .dataframe tbody tr th {\n",
       "        vertical-align: top;\n",
       "    }\n",
       "\n",
       "    .dataframe thead th {\n",
       "        text-align: right;\n",
       "    }\n",
       "</style>\n",
       "<table border=\"1\" class=\"dataframe\">\n",
       "  <thead>\n",
       "    <tr style=\"text-align: right;\">\n",
       "      <th></th>\n",
       "      <th>Task</th>\n",
       "      <th>Average Runtime</th>\n",
       "    </tr>\n",
       "  </thead>\n",
       "  <tbody>\n",
       "    <tr>\n",
       "      <th>0</th>\n",
       "      <td>scatter_plot</td>\n",
       "      <td>1.154649</td>\n",
       "    </tr>\n",
       "    <tr>\n",
       "      <th>1</th>\n",
       "      <td>convert</td>\n",
       "      <td>0.575599</td>\n",
       "    </tr>\n",
       "  </tbody>\n",
       "</table>\n",
       "</div>"
      ],
      "text/plain": [
       "           Task  Average Runtime\n",
       "0  scatter_plot         1.154649\n",
       "1       convert         0.575599"
      ]
     },
     "execution_count": 10,
     "metadata": {},
     "output_type": "execute_result"
    }
   ],
   "source": [
    "# Get Dataframe of Average Runtime\n",
    "average_runtime_df"
   ]
  },
  {
   "cell_type": "code",
   "execution_count": null,
   "metadata": {},
   "outputs": [],
   "source": []
  }
 ],
 "metadata": {
  "kernelspec": {
   "display_name": "Python 3",
   "language": "python",
   "name": "python3"
  },
  "language_info": {
   "codemirror_mode": {
    "name": "ipython",
    "version": 3
   },
   "file_extension": ".py",
   "mimetype": "text/x-python",
   "name": "python",
   "nbconvert_exporter": "python",
   "pygments_lexer": "ipython3",
   "version": "3.12.0"
  }
 },
 "nbformat": 4,
 "nbformat_minor": 2
}
