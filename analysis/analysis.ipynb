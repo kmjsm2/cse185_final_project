{
 "cells": [
  {
   "cell_type": "code",
   "execution_count": 22,
   "metadata": {},
   "outputs": [
    {
     "name": "stdout",
     "output_type": "stream",
     "text": [
      "Calculating average runtime for convert...\n",
      "Measuring runtime for converting file: ../example_files/C1_fpkm.csv\n",
      "Measuring runtime for converting file: ../example_files/C2_fpkm.csv\n",
      "Measuring runtime for converting file: ../example_files/C3_fpkm.csv\n",
      "Measuring runtime for converting file: ../example_files/T1_fpkm.csv\n",
      "Measuring runtime for converting file: ../example_files/T2_fpkm.csv\n",
      "Measuring runtime for converting file: ../example_files/T3_fpkm.csv\n",
      "Average runtime for convert_fpkm_to_tpm: 0.61 seconds\n",
      "Calculating average runtime for scatter...\n",
      "Measuring runtime for files: C1_tpm.csv, C2_tpm.csv\n",
      "Measuring runtime for files: C3_tpm.csv, T1_tpm.csv\n",
      "Measuring runtime for files: T2_tpm.csv, T3_tpm.csv\n",
      "Average runtime for scatter_plot: 0.78 seconds\n"
     ]
    },
    {
     "data": {
      "image/png": "[encoded data removed]",
      "text/plain": [
       "<Figure size 1000x600 with 1 Axes>"
      ]
     },
     "metadata": {},
     "output_type": "display_data"
    },
    {
     "data": {
      "text/html": [
       "<div>\n",
       "<style scoped>\n",
       "    .dataframe tbody tr th:only-of-type {\n",
       "        vertical-align: middle;\n",
       "    }\n",
       "\n",
       "    .dataframe tbody tr th {\n",
       "        vertical-align: top;\n",
       "    }\n",
       "\n",
       "    .dataframe thead th {\n",
       "        text-align: right;\n",
       "    }\n",
       "</style>\n",
       "<table border=\"1\" class=\"dataframe\">\n",
       "  <thead>\n",
       "    <tr style=\"text-align: right;\">\n",
       "      <th></th>\n",
       "      <th>Task</th>\n",
       "      <th>Average Runtime</th>\n",
       "    </tr>\n",
       "  </thead>\n",
       "  <tbody>\n",
       "    <tr>\n",
       "      <th>0</th>\n",
       "      <td>convert_fpkm_to_tpm</td>\n",
       "      <td>0.613461</td>\n",
       "    </tr>\n",
       "    <tr>\n",
       "      <th>1</th>\n",
       "      <td>scatter_plot</td>\n",
       "      <td>0.775729</td>\n",
       "    </tr>\n",
       "  </tbody>\n",
       "</table>\n",
       "</div>"
      ],
      "text/plain": [
       "                  Task  Average Runtime\n",
       "0  convert_fpkm_to_tpm         0.613461\n",
       "1         scatter_plot         0.775729"
      ]
     },
     "execution_count": 22,
     "metadata": {},
     "output_type": "execute_result"
    }
   ],
   "source": [
    "import time\n",
    "import subprocess\n",
    "import pandas as pd\n",
    "import matplotlib.pyplot as plt\n",
    "import numpy as np\n",
    "import os\n",
    "\n",
    "def measure_runtime(command):\n",
    "    start_time = time.time()\n",
    "    result = subprocess.run(command, shell=True, capture_output=True, text=True)\n",
    "    end_time = time.time()\n",
    "    runtime = end_time - start_time\n",
    "    return runtime, result.stdout, result.stderr\n",
    "\n",
    "input_files = [\n",
    "    (\"../example_files/C1_fpkm.csv\", \"../example_files/C2_fpkm.csv\"),\n",
    "    (\"../example_files/C2_fpkm.csv\", \"../example_files/C3_fpkm.csv\"),\n",
    "    (\"../example_files/C3_fpkm.csv\", \"../example_files/C1_fpkm.csv\"),\n",
    "    (\"../example_files/T1_fpkm.csv\", \"../example_files/T2_fpkm.csv\"),\n",
    "    (\"../example_files/T2_fpkm.csv\", \"../example_files/T3_fpkm.csv\"),\n",
    "    (\"../example_files/T3_fpkm.csv\", \"../example_files/T1_fpkm.csv\")\n",
    "]\n",
    "\n",
    "commands = {\n",
    "    \"convert\": \"quantgene convert {file1} ./\",\n",
    "    \"scatter\": \"quantgene scatter {file1} {file2} ./\"\n",
    "}\n",
    "\n",
    "def calculate_average_runtime(commands, file_pairs, mode):\n",
    "    runtimes = []\n",
    "    output_files = []\n",
    "    \n",
    "    for file1, file2 in file_pairs:\n",
    "        if mode == \"convert\":\n",
    "            output_file = os.path.basename(file1).replace('_fpkm.csv', '_tpm.csv')\n",
    "            output_files.append(output_file)\n",
    "            command = commands[mode].format(file1=file1)\n",
    "            print(f\"Measuring runtime for converting file: {file1}\")\n",
    "        elif mode == \"scatter\":\n",
    "            file1 = os.path.basename(file1).replace('_fpkm.csv', '_tpm.csv')\n",
    "            file2 = os.path.basename(file2).replace('_fpkm.csv', '_tpm.csv')\n",
    "            command = commands[mode].format(file1=file1, file2=file2)\n",
    "            print(f\"Measuring runtime for files: {file1}, {file2}\")\n",
    "        else:\n",
    "            continue\n",
    "        \n",
    "        runtime, stdout, stderr = measure_runtime(command)\n",
    "        if stderr:\n",
    "            print(f\"Errors for files {file1}, {file2}:\\n{stderr}\")\n",
    "        else:\n",
    "            runtimes.append(runtime)\n",
    "    \n",
    "    average_runtime = np.mean(runtimes)\n",
    "    return average_runtime, runtimes, output_files\n",
    "\n",
    "# First, run the convert step\n",
    "convert_average_runtimes = {}\n",
    "convert_all_runtimes = {}\n",
    "print(\"Calculating average runtime for convert...\")\n",
    "convert_avg_runtime, convert_runtimes, output_files = calculate_average_runtime(commands, input_files, \"convert\")\n",
    "convert_average_runtimes[\"convert_fpkm_to_tpm\"] = convert_avg_runtime\n",
    "convert_all_runtimes[\"convert_fpkm_to_tpm\"] = convert_runtimes\n",
    "print(f\"Average runtime for convert_fpkm_to_tpm: {convert_avg_runtime:.2f} seconds\")\n",
    "\n",
    "# Now, run the scatter step using the converted files\n",
    "scatter_input_files = [(os.path.join('./', f1), os.path.join('./', f2)) for f1, f2 in zip(output_files[::2], output_files[1::2])]\n",
    "scatter_average_runtimes = {}\n",
    "scatter_all_runtimes = {}\n",
    "print(\"Calculating average runtime for scatter...\")\n",
    "scatter_avg_runtime, scatter_runtimes, _ = calculate_average_runtime(commands, scatter_input_files, \"scatter\")\n",
    "scatter_average_runtimes[\"scatter_plot\"] = scatter_avg_runtime\n",
    "scatter_all_runtimes[\"scatter_plot\"] = scatter_runtimes\n",
    "print(f\"Average runtime for scatter_plot: {scatter_avg_runtime:.2f} seconds\")\n",
    "\n",
    "# Combine both average runtimes\n",
    "average_runtimes = {**convert_average_runtimes, **scatter_average_runtimes}\n",
    "\n",
    "# Get the Average Runtime\n",
    "average_runtime_df = pd.DataFrame(list(average_runtimes.items()), columns=['Task', 'Average Runtime'])\n",
    "\n",
    "# Visualize the Average Runtime in both options (s)\n",
    "plt.figure(figsize=(10, 6))\n",
    "plt.bar(average_runtime_df['Task'], average_runtime_df['Average Runtime'], color='skyblue')\n",
    "plt.xlabel('Task')\n",
    "plt.ylabel('Average Runtime (seconds)')\n",
    "plt.title('Average Runtime Analysis of quantgene.py Tasks')\n",
    "plt.show()\n",
    "\n",
    "# Get Dataframe of Average Runtime\n",
    "average_runtime_df"
   ]
  },
  {
   "cell_type": "code",
   "execution_count": 16,
   "metadata": {},
   "outputs": [],
   "source": [
    "import time\n",
    "import subprocess\n",
    "import pandas as pd\n",
    "import matplotlib.pyplot as plt\n",
    "import numpy as np\n",
    "import os"
   ]
  },
  {
   "cell_type": "markdown",
   "metadata": {},
   "source": [
    "## Measure Runtime for both options: 'scatter' and 'convert'"
   ]
  },
  {
   "cell_type": "code",
   "execution_count": 17,
   "metadata": {},
   "outputs": [],
   "source": [
    "def measure_runtime(command):\n",
    "    start_time = time.time()\n",
    "    result = subprocess.run(command, shell=True, capture_output=True, text=True)\n",
    "    end_time = time.time()\n",
    "    runtime = end_time - start_time\n",
    "    return runtime, result.stdout, result.stderr"
   ]
  },
  {
   "cell_type": "code",
   "execution_count": 18,
   "metadata": {},
   "outputs": [],
   "source": [
    "input_files = [\n",
    "    (\"../example_files/C1_fpkm.csv\", \"../example_files/C2_fpkm.csv\"),\n",
    "    (\"../example_files/C2_fpkm.csv\", \"../example_files/C3_fpkm.csv\"),\n",
    "    (\"../example_files/C3_fpkm.csv\", \"../example_files/C1_fpkm.csv\"),\n",
    "    (\"../example_files/T1_fpkm.csv\", \"../example_files/T2_fpkm.csv\"),\n",
    "    (\"../example_files/T2_fpkm.csv\", \"../example_files/T3_fpkm.csv\"),\n",
    "    (\"../example_files/T3_fpkm.csv\", \"../example_files/T1_fpkm.csv\")\n",
    "]"
   ]
  },
  {
   "cell_type": "code",
   "execution_count": 19,
   "metadata": {},
   "outputs": [],
   "source": [
    "commands = {\n",
    "    \"convert_fpkm_to_tpm\": \"quantgene convert {file1} ./\",\n",
    "    \"scatter_plot\": \"quantgene scatter {file1} {file2} ./\"\n",
    "}\n"
   ]
  },
  {
   "cell_type": "code",
   "execution_count": 20,
   "metadata": {},
   "outputs": [],
   "source": [
    "def calculate_average_runtime(commands, file_pairs, mode):\n",
    "    runtimes = []\n",
    "    output_files = []\n",
    "    \n",
    "    for file1, file2 in file_pairs:\n",
    "        if mode == \"convert\":\n",
    "            output_file = os.path.basename(file1).replace('_fpkm.csv', '_tpm.csv')\n",
    "            output_files.append(output_file)\n",
    "            command = commands[mode].format(file1=file1)\n",
    "            print(f\"Measuring runtime for converting file: {file1}\")\n",
    "        elif mode == \"scatter\":\n",
    "            file1 = os.path.basename(file1).replace('_fpkm.csv', '_tpm.csv')\n",
    "            file2 = os.path.basename(file2).replace('_fpkm.csv', '_tpm.csv')\n",
    "            command = commands[mode].format(file1=file1, file2=file2)\n",
    "            print(f\"Measuring runtime for files: {file1}, {file2}\")\n",
    "        else:\n",
    "            continue\n",
    "        \n",
    "        runtime, stdout, stderr = measure_runtime(command)\n",
    "        if stderr:\n",
    "            print(f\"Errors for files {file1}, {file2}:\\n{stderr}\")\n",
    "        else:\n",
    "            runtimes.append(runtime)\n",
    "    \n",
    "    average_runtime = np.mean(runtimes)\n",
    "    return average_runtime, runtimes, output_files"
   ]
  },
  {
   "cell_type": "code",
   "execution_count": 21,
   "metadata": {},
   "outputs": [
    {
     "name": "stdout",
     "output_type": "stream",
     "text": [
      "Calculating average runtime for convert...\n"
     ]
    },
    {
     "ename": "KeyError",
     "evalue": "'convert'",
     "output_type": "error",
     "traceback": [
      "\u001b[0;31m---------------------------------------------------------------------------\u001b[0m",
      "\u001b[0;31mKeyError\u001b[0m                                  Traceback (most recent call last)",
      "\u001b[1;32m/Users/zoekim/Documents/GitHub/cse185_final_project/analysis/analysis.ipynb Cell 7\u001b[0m line \u001b[0;36m5\n\u001b[1;32m      <a href='vscode-notebook-cell:/Users/zoekim/Documents/GitHub/cse185_final_project/analysis/analysis.ipynb#W6sZmlsZQ%3D%3D?line=2'>3</a>\u001b[0m convert_all_runtimes \u001b[39m=\u001b[39m {}\n\u001b[1;32m      <a href='vscode-notebook-cell:/Users/zoekim/Documents/GitHub/cse185_final_project/analysis/analysis.ipynb#W6sZmlsZQ%3D%3D?line=3'>4</a>\u001b[0m \u001b[39mprint\u001b[39m(\u001b[39m\"\u001b[39m\u001b[39mCalculating average runtime for convert...\u001b[39m\u001b[39m\"\u001b[39m)\n\u001b[0;32m----> <a href='vscode-notebook-cell:/Users/zoekim/Documents/GitHub/cse185_final_project/analysis/analysis.ipynb#W6sZmlsZQ%3D%3D?line=4'>5</a>\u001b[0m convert_avg_runtime, convert_runtimes, output_files \u001b[39m=\u001b[39m calculate_average_runtime(commands, input_files, \u001b[39m\"\u001b[39;49m\u001b[39mconvert\u001b[39;49m\u001b[39m\"\u001b[39;49m)\n\u001b[1;32m      <a href='vscode-notebook-cell:/Users/zoekim/Documents/GitHub/cse185_final_project/analysis/analysis.ipynb#W6sZmlsZQ%3D%3D?line=5'>6</a>\u001b[0m convert_average_runtimes[\u001b[39m\"\u001b[39m\u001b[39mconvert_fpkm_to_tpm\u001b[39m\u001b[39m\"\u001b[39m] \u001b[39m=\u001b[39m convert_avg_runtime\n\u001b[1;32m      <a href='vscode-notebook-cell:/Users/zoekim/Documents/GitHub/cse185_final_project/analysis/analysis.ipynb#W6sZmlsZQ%3D%3D?line=6'>7</a>\u001b[0m convert_all_runtimes[\u001b[39m\"\u001b[39m\u001b[39mconvert_fpkm_to_tpm\u001b[39m\u001b[39m\"\u001b[39m] \u001b[39m=\u001b[39m convert_runtimes\n",
      "\u001b[1;32m/Users/zoekim/Documents/GitHub/cse185_final_project/analysis/analysis.ipynb Cell 7\u001b[0m line \u001b[0;36m9\n\u001b[1;32m      <a href='vscode-notebook-cell:/Users/zoekim/Documents/GitHub/cse185_final_project/analysis/analysis.ipynb#W6sZmlsZQ%3D%3D?line=6'>7</a>\u001b[0m     output_file \u001b[39m=\u001b[39m os\u001b[39m.\u001b[39mpath\u001b[39m.\u001b[39mbasename(file1)\u001b[39m.\u001b[39mreplace(\u001b[39m'\u001b[39m\u001b[39m_fpkm.csv\u001b[39m\u001b[39m'\u001b[39m, \u001b[39m'\u001b[39m\u001b[39m_tpm.csv\u001b[39m\u001b[39m'\u001b[39m)\n\u001b[1;32m      <a href='vscode-notebook-cell:/Users/zoekim/Documents/GitHub/cse185_final_project/analysis/analysis.ipynb#W6sZmlsZQ%3D%3D?line=7'>8</a>\u001b[0m     output_files\u001b[39m.\u001b[39mappend(output_file)\n\u001b[0;32m----> <a href='vscode-notebook-cell:/Users/zoekim/Documents/GitHub/cse185_final_project/analysis/analysis.ipynb#W6sZmlsZQ%3D%3D?line=8'>9</a>\u001b[0m     command \u001b[39m=\u001b[39m commands[mode]\u001b[39m.\u001b[39mformat(file1\u001b[39m=\u001b[39mfile1)\n\u001b[1;32m     <a href='vscode-notebook-cell:/Users/zoekim/Documents/GitHub/cse185_final_project/analysis/analysis.ipynb#W6sZmlsZQ%3D%3D?line=9'>10</a>\u001b[0m     \u001b[39mprint\u001b[39m(\u001b[39mf\u001b[39m\u001b[39m\"\u001b[39m\u001b[39mMeasuring runtime for converting file: \u001b[39m\u001b[39m{\u001b[39;00mfile1\u001b[39m}\u001b[39;00m\u001b[39m\"\u001b[39m)\n\u001b[1;32m     <a href='vscode-notebook-cell:/Users/zoekim/Documents/GitHub/cse185_final_project/analysis/analysis.ipynb#W6sZmlsZQ%3D%3D?line=10'>11</a>\u001b[0m \u001b[39melif\u001b[39;00m mode \u001b[39m==\u001b[39m \u001b[39m\"\u001b[39m\u001b[39mscatter\u001b[39m\u001b[39m\"\u001b[39m:\n",
      "\u001b[0;31mKeyError\u001b[0m: 'convert'"
     ]
    }
   ],
   "source": [
    "# First, run the convert step\n",
    "convert_average_runtimes = {}\n",
    "convert_all_runtimes = {}\n",
    "print(\"Calculating average runtime for convert...\")\n",
    "convert_avg_runtime, convert_runtimes, output_files = calculate_average_runtime(commands, input_files, \"convert\")\n",
    "convert_average_runtimes[\"convert_fpkm_to_tpm\"] = convert_avg_runtime\n",
    "convert_all_runtimes[\"convert_fpkm_to_tpm\"] = convert_runtimes\n",
    "print(f\"Average runtime for convert_fpkm_to_tpm: {convert_avg_runtime:.2f} seconds\")\n"
   ]
  },
  {
   "cell_type": "code",
   "execution_count": null,
   "metadata": {},
   "outputs": [],
   "source": [
    "# Now, run the scatter step using the converted files\n",
    "scatter_input_files = [(os.path.join('./', f1), os.path.join('./', f2)) for f1, f2 in zip(output_files[::2], output_files[1::2])]\n",
    "scatter_average_runtimes = {}\n",
    "scatter_all_runtimes = {}\n",
    "print(\"Calculating average runtime for scatter...\")\n",
    "scatter_avg_runtime, scatter_runtimes, _ = calculate_average_runtime(commands, scatter_input_files, \"scatter\")\n",
    "scatter_average_runtimes[\"scatter_plot\"] = scatter_avg_runtime\n",
    "scatter_all_runtimes[\"scatter_plot\"] = scatter_runtimes\n",
    "print(f\"Average runtime for scatter_plot: {scatter_avg_runtime:.2f} seconds\")\n",
    "\n",
    "# Combine both average runtimes\n",
    "average_runtimes = {**convert_average_runtimes, **scatter_average_runtimes}\n"
   ]
  },
  {
   "cell_type": "markdown",
   "metadata": {},
   "source": [
    "## Get the Average Runtime "
   ]
  },
  {
   "cell_type": "code",
   "execution_count": null,
   "metadata": {},
   "outputs": [],
   "source": [
    "# Get the Average Runtime\n",
    "average_runtime_df = pd.DataFrame(list(average_runtimes.items()), columns=['Task', 'Average Runtime'])"
   ]
  },
  {
   "cell_type": "markdown",
   "metadata": {},
   "source": [
    "## Visualize the Average Runtime in both options (s)"
   ]
  },
  {
   "cell_type": "code",
   "execution_count": null,
   "metadata": {},
   "outputs": [
    {
     "data": {
      "image/png": "[encoded data removed]",
      "text/plain": [
       "<Figure size 1000x600 with 1 Axes>"
      ]
     },
     "metadata": {},
     "output_type": "display_data"
    }
   ],
   "source": [
    "# Visualize the Average Runtime in both options (s)\n",
    "plt.figure(figsize=(10, 6))\n",
    "plt.bar(average_runtime_df['Task'], average_runtime_df['Average Runtime'], color='skyblue')\n",
    "plt.xlabel('Task')\n",
    "plt.ylabel('Average Runtime (seconds)')\n",
    "plt.title('Average Runtime Analysis of quantgene.py Tasks')\n",
    "plt.show()"
   ]
  },
  {
   "cell_type": "markdown",
   "metadata": {},
   "source": [
    "### Get Dataframe of Average Runtime "
   ]
  },
  {
   "cell_type": "code",
   "execution_count": null,
   "metadata": {},
   "outputs": [
    {
     "data": {
      "text/html": [
       "<div>\n",
       "<style scoped>\n",
       "    .dataframe tbody tr th:only-of-type {\n",
       "        vertical-align: middle;\n",
       "    }\n",
       "\n",
       "    .dataframe tbody tr th {\n",
       "        vertical-align: top;\n",
       "    }\n",
       "\n",
       "    .dataframe thead th {\n",
       "        text-align: right;\n",
       "    }\n",
       "</style>\n",
       "<table border=\"1\" class=\"dataframe\">\n",
       "  <thead>\n",
       "    <tr style=\"text-align: right;\">\n",
       "      <th></th>\n",
       "      <th>Task</th>\n",
       "      <th>Average Runtime</th>\n",
       "    </tr>\n",
       "  </thead>\n",
       "  <tbody>\n",
       "    <tr>\n",
       "      <th>0</th>\n",
       "      <td>scatter_plot</td>\n",
       "      <td>NaN</td>\n",
       "    </tr>\n",
       "    <tr>\n",
       "      <th>1</th>\n",
       "      <td>convert_fpkm_to_tpm</td>\n",
       "      <td>0.467281</td>\n",
       "    </tr>\n",
       "  </tbody>\n",
       "</table>\n",
       "</div>"
      ],
      "text/plain": [
       "                  Task  Average Runtime\n",
       "0         scatter_plot              NaN\n",
       "1  convert_fpkm_to_tpm         0.467281"
      ]
     },
     "execution_count": 9,
     "metadata": {},
     "output_type": "execute_result"
    }
   ],
   "source": [
    "# Get Dataframe of Average Runtime\n",
    "average_runtime_df"
   ]
  }
 ],
 "metadata": {
  "kernelspec": {
   "display_name": "Python 3",
   "language": "python",
   "name": "python3"
  },
  "language_info": {
   "codemirror_mode": {
    "name": "ipython",
    "version": 3
   },
   "file_extension": ".py",
   "mimetype": "text/x-python",
   "name": "python",
   "nbconvert_exporter": "python",
   "pygments_lexer": "ipython3",
   "version": "3.10.5"
  }
 },
 "nbformat": 4,
 "nbformat_minor": 2
}
